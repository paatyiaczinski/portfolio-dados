{
 "cells": [
  {
   "cell_type": "markdown",
   "id": "5605292a",
   "metadata": {},
   "source": [
    "# 📊 Resumo Executivo: Projeto de Análise de Marketing\n",
    "\n",
    "**Autor(a):** Patricia Iaczinski\n",
    "\n",
    "**Ferramentas Principais:** Power BI (Modelagem, DAX, Visualização), Excel/CSV\n",
    "\n",
    "\n",
    "\n",
    "\n",
    "## 1. Introdução e Objetivo\n",
    "\n",
    "Este projeto teve como objetivo analisar um conjunto de dados simulados de marketing para extrair insights sobre o comportamento do cliente, o desempenho de campanhas e os padrões de compra. O foco principal foi desenvolver um dashboard interativo no Power BI que pudesse auxiliar gestores de marketing na tomada de decisões estratégicas, respondendo a perguntas como:\n",
    "\n",
    "* Qual o perfil dos nossos clientes mais engajados?\n",
    "* Quais segmentos de clientes (RFM) são mais valiosos?\n",
    "* Quais campanhas de marketing apresentaram o melhor Retorno sobre Investimento (ROI) e Custo de Aquisição de Cliente (CAC)?\n",
    "* Quais canais de venda e regiões geográficas se destacam?"
   ]
  },
  {
   "cell_type": "markdown",
   "id": "64b8f1d2",
   "metadata": {},
   "source": [
    "## 2. Fonte de Dados e Preparação\n",
    "\n",
    "Os dados utilizados foram fornecidos em um arquivo CSV (`dados_marketing.csv`) simulado, contendo informações demográficas de clientes, histórico de gastos por categoria, compras por canal, respostas a campanhas de marketing e datas relevantes (inscrição, última compra) entre 2022-2023.\n",
    "\n",
    "**Principais Etapas de Preparação (realizadas majoritariamente no Power Query dentro do Power BI):**\n",
    "* Tratamento de valores ausentes (ex: `Salario Anual` preenchido com a média).\n",
    "* Criação de colunas calculadas importantes:\n",
    "    * Idade e Faixa Etária.\n",
    "    * Cálculo do **RFM Score** (Recência, Frequência, Monetário) para segmentação.\n",
    "    * Cálculo do Gasto Total e Número Total de Compras.\n",
    "* Criação de tabelas auxiliares para custos de campanha e mapeamento de segmentos RFM.\n",
    "* Modelagem de dados no Power BI para relacionar as tabelas."
   ]
  },
  {
   "cell_type": "markdown",
   "id": "5cd40b7d",
   "metadata": {},
   "source": [
    "## 3. Análises e Descobertas Chave\n",
    "\n",
    "A análise foi estruturada em torno de quatro temas principais, refletidos nas abas do dashboard Power BI:"
   ]
  },
  {
   "cell_type": "markdown",
   "id": "a5d3a6a7",
   "metadata": {},
   "source": [
    "### 3.1. Visão do Cliente\n",
    "\n",
    "Análise do perfil demográfico e socioeconômico dos 1.999 clientes da amostra.\n",
    "\n",
    "**Principais Insights:**\n",
    "* Perfil dominante: Solteiros, com Ensino Superior, na faixa etária de 41-55 anos.\n",
    "* Clientes sem filhos gastam significativamente mais (Ticket Médio quase 4.5x maior).\n",
    "* Salário anual médio de R$ 51.981 e recência média de 44 dias.\n",
    "\n",
    "**Visualização Chave:**\n",
    "![Dashboard – Visão Cliente](../img/visao-cliente.png)\n",
    "*Descrição: Dashboard mostrando KPIs como total de clientes, salário médio, recência média, e gráficos de distribuição de clientes por estado civil, escolaridade e faixa etária.*"
   ]
  },
  {
   "cell_type": "markdown",
   "id": "602b431a",
   "metadata": {},
   "source": [
    "### 3.2. Comportamento de Compra (Segmentação RFM)\n",
    "\n",
    "Classificação dos clientes com base na Recência, Frequência e Valor Monetário (RFM) para identificar segmentos estratégicos.\n",
    "\n",
    "**Principais Insights:**\n",
    "* **Segmentos 'Potencial' e 'Campeão de Receita'**: Concentram mais de 50% do gasto total, sendo cruciais para retenção e upsell.\n",
    "* **Segmento 'VIP'**: Pequeno em número (15 clientes), mas com altíssimo Ticket Médio (R$ 2.189) e taxa de conversão (60%).\n",
    "* **Segmento 'Em Recuperação'**: Oportunidade para ações de reativação direcionadas.\n",
    "\n",
    "**Visualização Chave:**\n",
    "![Dashboard – Comportamento de Compra do Cliente](../img/comportamento_compra.png)\n",
    "*Descrição: Dashboard focado na segmentação RFM, mostrando a distribuição de clientes e o gasto total por segmento, além de gráficos de Recência vs Frequência.*"
   ]
  },
  {
   "cell_type": "markdown",
   "id": "73adecb2",
   "metadata": {},
   "source": [
    "### 3.3. Performance das Campanhas\n",
    "\n",
    "Avaliação da eficiência das campanhas de marketing com base em ROI, CAC e Taxa de Conversão.\n",
    "\n",
    "**Principais Insights:**\n",
    "* **Campanha 1**: Destaque absoluto com o maior ROI (376%), maior conversão (7.4%) e menor CAC (R$ 145). Estratégia a ser replicada.\n",
    "* **Campanhas 4 e 5**: Desempenho muito baixo, necessitando revisão estratégica (ROI < 100%, CAC elevado).\n",
    "* Relação inversa observada entre CAC e ROI (menor custo de aquisição geralmente leva a maior retorno).\n",
    "\n",
    "**Visualização Chave:**\n",
    "![Dashboard – Performance das Campanhas](../img/performance-campanhas.png)\n",
    "*Descrição: Dashboard comparando as campanhas através de KPIs (ROI, CAC, Conversão), gráfico de dispersão ROI vs CAC, e gráfico de barras/linhas mostrando receita e clientes por campanha.*"
   ]
  },
  {
   "cell_type": "markdown",
   "id": "0ef8bf96",
   "metadata": {},
   "source": [
    "### 3.4. Padrões de Compra (Ponto de Venda / Canal)\n",
    "\n",
    "Análise de comportamento por localização geográfica e canal de compra.\n",
    "\n",
    "**Principais Insights:**\n",
    "* **Canal Preferido**: Lojas físicas respondem por 46% das compras.\n",
    "* **Países**:\n",
    "    * EUA: Maior volume de clientes e gasto total.\n",
    "    * Portugal: Maior Ticket Médio (R$ 646), indicando clientes de alto valor.\n",
    "    * Espanha e Chile: Também com tickets médios elevados.\n",
    "* **Categoria Principal**: Eletrônicos dominam os gastos em todos os países analisados.\n",
    "\n",
    "**Visualização Chave:**\n",
    "![Dashboard – Ponto de Venda](../img/pontos-vendas.png)\n",
    "*Descrição: Dashboard com mapa mostrando distribuição de clientes/gastos por país, gráficos comparando ticket médio e gasto total por país, e análise de categorias de produtos mais compradas.*"
   ]
  },
  {
   "cell_type": "markdown",
   "id": "e741940c",
   "metadata": {},
   "source": [
    "## 4. Recomendações Estratégicas\n",
    "\n",
    "Com base nos insights gerados, as principais recomendações incluem:\n",
    "\n",
    "* **Focar no público principal** (41-55 anos, solteiro, ensino superior) e **clientes sem filhos** para maximizar o valor.\n",
    "* Implementar **ações personalizadas por segmento RFM**: Upsell para 'Potenciais/Campeões', fidelização para 'VIPs', reativação para 'Em Recuperação'.\n",
    "* **Replicar as estratégias da Campanha 1** e revisar profundamente as Campanhas 4 e 5.\n",
    "* **Investir em mercados com alto Ticket Médio** (Portugal, Espanha) e manter a força nos EUA.\n",
    "* Otimizar a experiência nos **canais online** para complementar a força das lojas físicas."
   ]
  },
  {
   "cell_type": "markdown",
   "id": "2640abda",
   "metadata": {},
   "source": [
    "## 6. Próximos Passos e Melhorias Futuras\n",
    "\n",
    "Algumas ideias para evoluir este projeto incluem:\n",
    "\n",
    "* Criar um post com storytelling detalhando os achados para publicação (ex: LinkedIn, Medium).\n",
    "* Explorar visualizações adicionais por categoria de produto ou canal, cruzando com a segmentação RFM.\n",
    "* Avaliar a integração com dados reais (via API ou banco de dados) ou simular dados mais complexos.\n",
    "* Desenvolver métricas de Lifetime Value (CLV) do cliente.\n",
    "* Aplicar técnicas de clustering (Machine Learning) com base nos scores RFM para identificar grupos de forma automática."
   ]
  },
  {
   "cell_type": "markdown",
   "id": "fc7ced3b",
   "metadata": {},
   "source": [
    "## 5. Conclusão\n",
    "\n",
    "Este projeto demonstrou com sucesso como a análise de dados de marketing, mesmo simulados, pode gerar insights valiosos e direcionar estratégias mais eficazes. O dashboard interativo desenvolvido no Power BI fornece uma ferramenta poderosa para exploração contínua e apoio à decisão para a equipe de marketing."
   ]
  }
 ],
 "metadata": {
  "language_info": {
   "name": "python"
  }
 },
 "nbformat": 4,
 "nbformat_minor": 5
}
