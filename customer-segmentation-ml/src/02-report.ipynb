{
 "cells": [
  {
   "cell_type": "markdown",
   "id": "33aeaa2f",
   "metadata": {},
   "source": [
    "### ✅ Cluster Validation Summary\n",
    "\n",
    "To determine the optimal number of clusters (K), we used two validation techniques: the Elbow Method and the Silhouette Score. Both visualizations are shown below.\n",
    "\n",
    "#### 📉 Elbow Method\n",
    "![Elbow Method](../img/elbow_method.png)\n",
    "\n",
    "- The curve shows a noticeable drop in inertia up to **K = 3**, after which the improvements become marginal.\n",
    "- This suggests that **K = 3** is a solid choice, offering a good trade-off between model simplicity and clustering accuracy.\n",
    "\n",
    "#### 📈 Silhouette Scores\n",
    "![Silhouette Scores](../img/silhouette-scores.png)\n",
    "\n",
    "- The highest silhouette score occurs at **K = 2**, but **K = 3** still achieves a relatively high value.\n",
    "- Since K = 3 aligns with business expectations and segmentation clarity, it remains the preferred option.\n",
    "\n",
    "#### ✅ Final Conclusion\n",
    "Combining both metrics, we conclude that **K = 3** offers a well-balanced solution — maintaining **cluster cohesion**, **separation**, and **practical interpretability**."
   ]
  },
  {
   "cell_type": "markdown",
   "id": "4f885f2c",
   "metadata": {},
   "source": []
  },
  {
   "cell_type": "markdown",
   "id": "c6c80616",
   "metadata": {},
   "source": [
    "### 🧩 Cluster Summary – Averages and Distribution\n",
    "\n",
    "Below are the average profiles and size distribution of each cluster identified in the segmentation. Together, they provide a quantitative overview of customer groups.\n",
    "\n",
    "<div style=\"display: flex; gap: 20px; justify-content: center;\">\n",
    "\n",
    "<div>\n",
    "<strong>Cluster Averages</strong><br>\n",
    "<img src=\"../img/cluster-averages.png\" width=\"500\"/>\n",
    "</div>\n",
    "\n",
    "<div>\n",
    "<strong>Cluster Distribution</strong><br>\n",
    "<img src=\"../img/cluster-distribution.png\" width=\"400\"/>\n",
    "</div>\n",
    "\n",
    "</div>\n",
    "\n",
    "#### ✅ Cluster Validation Summary\n",
    "\n",
    "- **Cluster Averages**:  \n",
    "  Each cluster shows distinct patterns in average age, income, and spending score, indicating meaningful behavioral differences.\n",
    "\n",
    "- **Cluster Distribution**:  \n",
    "  The number of clients per cluster is relatively balanced, with no dominant or underrepresented group.\n",
    "\n",
    "- **Conclusion**:  \n",
    "  The segmentation into 3 clusters is consistent and actionable for marketing strategies.\n"
   ]
  },
  {
   "cell_type": "markdown",
   "id": "78283418",
   "metadata": {},
   "source": [
    "---"
   ]
  },
  {
   "cell_type": "markdown",
   "id": "dfbbb579",
   "metadata": {},
   "source": [
    "## PCA Cluster Visualization \n",
    "\n",
    "![Tabela de clusters](../img/pca_clusters.png)\n",
    "\n",
    "\n",
    "## 📊 Key Insights\n",
    "\n",
    "\n",
    "🟢 Cluster 0 (green)\n",
    "Located in the lower region of the PCA plot.\n",
    "Clearly separated from the other clusters.\n",
    "Represents a more homogeneous group, likely composed of younger clients with lower income.\n",
    "Matches the profile seen in boxplots and radar chart (low spending behavior).\n",
    "\n",
    "\n",
    "🟠 Cluster 1 (orange)\n",
    "Positioned near the center, acting as a bridge between extremes.\n",
    "Represents a more diverse group with middle-aged clients, average income, and high spending.\n",
    "Likely the ideal target for retention and premium offers.\n",
    "\n",
    "\n",
    "🔵 Cluster 2 (blue)\n",
    "Distributed in the upper-right region, with moderate separation.\n",
    "Likely consists of younger, high-income clients with untapped purchasing potential.\n",
    "Great target for upselling and aspirational campaigns.\n",
    "\n",
    "\n",
    "### 🧠 Cluster Summary and Strategic Recommendations\n",
    "\n",
    "| Cluster | Main Profile                        | Suggested Strategy                                     |\n",
    "|---------|-------------------------------------|--------------------------------------------------------|\n",
    "| 0       | Young, low income, low spending     | Loyalty programs, entry-level or accessible products   |\n",
    "| 1       | Middle-aged, average income, high spending | Premium offers, personalized experiences               |\n",
    "| 2       | Young, high income, moderate spending | Upselling, aspirational marketing, unique experiences  |"
   ]
  },
  {
   "cell_type": "markdown",
   "id": "905cf9f7",
   "metadata": {},
   "source": [
    "---"
   ]
  },
  {
   "cell_type": "markdown",
   "id": "d8d044ab",
   "metadata": {},
   "source": [
    "### 📊 Variable Distribution by Cluster\n",
    "\n",
    "The boxplots below illustrate the distribution of the three key variables — age, annual income, and spending score — for each cluster. These visualizations help interpret behavioral and economic differences between the groups.\n",
    "\n",
    "![Boxplots by Cluster](../img/boxplots.png)\n",
    "\n",
    "#### 🔍 Interpretation:\n",
    "\n",
    "- **Age**: Highlights which clusters contain younger or older clients.\n",
    "- **Annual Income**: Reveals groups with higher or lower purchasing power.\n",
    "- **Spending Score**: Indicates which clusters have a higher tendency to spend.\n",
    "\n",
    "These patterns provide actionable insights into customer behavior and segmentation strategy.\n"
   ]
  },
  {
   "cell_type": "markdown",
   "id": "9d1e313e",
   "metadata": {},
   "source": [
    "---"
   ]
  },
  {
   "cell_type": "markdown",
   "id": "3bbede87",
   "metadata": {},
   "source": [
    "### 🔗 Variable Relationships by Cluster – Pairplot\n",
    "\n",
    "The scatter matrix below displays the relationships between age, annual income, and spending score across all clusters. It provides a multidimensional view of how the groups differ from each other.\n",
    "\n",
    "![Pairplot by Cluster](../img/pairplot.png)\n",
    "\n",
    "#### 🧠 What insights can be drawn from this plot:\n",
    "\n",
    "📌 **Age vs. Annual Income**:\n",
    "- Cluster 2 tends to group **younger clients with higher incomes**.\n",
    "- Cluster 1 includes **older clients with moderate incomes**.\n",
    "- Cluster 0 is more **scattered**, covering various ages but generally lower income levels.\n",
    "\n",
    "📌 **Age vs. Spending Score**:\n",
    "- High spending scores appear in **both younger (Cluster 2)** and **older (Cluster 1)** clients.\n",
    "- This suggests high spending potential across age ranges — possibly due to different motivations (e.g., disposable income vs. lifestyle).\n",
    "\n",
    "📌 **Annual Income vs. Spending Score**:\n",
    "- Higher income does not always correlate with higher spending.\n",
    "- This disconnect reveals **strategic opportunities**, like promoting spending incentives for high-income but low-engagement clients.\n"
   ]
  },
  {
   "cell_type": "markdown",
   "id": "839b2ced",
   "metadata": {},
   "source": [
    "---"
   ]
  },
  {
   "cell_type": "markdown",
   "id": "734eb963",
   "metadata": {},
   "source": [
    "### 🕸️ Normalized Cluster Profiles – Radar Chart\n",
    "\n",
    "The radar chart below compares the average (normalized) values of age, income, and spending score across each cluster. This visualization highlights key behavioral patterns and helps define strategies per segment.\n",
    "\n",
    "![Radar Chart](../img/radar-chart.png)\n",
    "\n",
    "#### 🔍 Cluster Insights\n",
    "\n",
    "🔵 **Cluster 0**  \n",
    "- Younger clients with lower income and low spending.  \n",
    "- 🧠 Strategy: Entry-level products, loyalty programs, and affordable offers.\n",
    "\n",
    "🟠 **Cluster 1**  \n",
    "- Older clients with medium income and the **highest spending levels**.  \n",
    "- 🧠 Strategy: Premium offerings, value-added services, and retention-focused campaigns.\n",
    "\n",
    "🟢 **Cluster 2**  \n",
    "- Young clients with high income and moderate spending.  \n",
    "- 🧠 Strategy: Aspirational marketing and exclusive experiences to boost spending potential.\n"
   ]
  },
  {
   "cell_type": "markdown",
   "id": "5ed95d5a",
   "metadata": {},
   "source": [
    "---"
   ]
  }
 ],
 "metadata": {
  "kernelspec": {
   "display_name": "base",
   "language": "python",
   "name": "python3"
  },
  "language_info": {
   "codemirror_mode": {
    "name": "ipython",
    "version": 3
   },
   "file_extension": ".py",
   "mimetype": "text/x-python",
   "name": "python",
   "nbconvert_exporter": "python",
   "pygments_lexer": "ipython3",
   "version": "3.12.7"
  }
 },
 "nbformat": 4,
 "nbformat_minor": 5
}
