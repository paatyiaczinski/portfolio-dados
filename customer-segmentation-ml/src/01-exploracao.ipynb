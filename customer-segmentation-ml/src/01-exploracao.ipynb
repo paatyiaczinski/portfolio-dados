{
 "cells": [
  {
   "cell_type": "markdown",
   "id": "6b65b19c",
   "metadata": {},
   "source": [
    "## <font color='##34495E'>Customer Segmentation Using Machine Learning</font>  \n",
    "### <font color='#2E86C1'>Machine Learning with Python and Power BI for Business Reporting</font>\n",
    "\n",
    "### 💼 Business Problem\n",
    "\n",
    "Based on historical customer data from purchases in our company, perform a **segmentation of clients into 3 groups** according to similar characteristics. The goal is to deliver the Marketing team a **clear report with the average age, income, and spending score per segment**, enabling more targeted strategies.\n",
    "\n",
    "---\n",
    "\n",
    "## <font color='##34495E'>Segmentação de Clientes Utilizando Machine Learning</font>  \n",
    "### <font color='#2E86C1'>Machine Learning com Python e Power BI para Geração de Relatórios Empresariais</font>\n",
    "\n",
    "### 💼 Problema de Negócio\n",
    "\n",
    "Considerando dados históricos de clientes que realizaram compras em nossa empresa, realize o **agrupamento (segmentação)** dos clientes em **3 grupos com características semelhantes**. O objetivo é fornecer à equipe de Marketing um **relatório claro com os segmentos e suas médias de idade, renda e pontuação de gasto**, a fim de personalizar estratégias de atuação.\n",
    "\n",
    "---\n",
    "\n"
   ]
  },
  {
   "cell_type": "code",
   "execution_count": 5,
   "id": "ba7292bd",
   "metadata": {},
   "outputs": [
    {
     "name": "stdout",
     "output_type": "stream",
     "text": [
      "Python version used in this project 3.12.7\n"
     ]
    }
   ],
   "source": [
    "#version\n",
    "from platform import python_version\n",
    "print(\"Python version used in this project\",python_version())"
   ]
  },
  {
   "cell_type": "code",
   "execution_count": 24,
   "id": "dc108778",
   "metadata": {},
   "outputs": [],
   "source": [
    "#Imports \n",
    "import os\n",
    "# Just 2 threads to avoid memory leak warning (Windows + MKL + KMeans)\n",
    "os.environ[\"OMP_NUM_THREADS\"] = \"2\" \n",
    "import pandas as pd\n",
    "import matplotlib.pyplot as plt\n",
    "from sklearn.cluster import KMeans\n",
    "from sklearn.preprocessing import StandardScaler\n",
    "from sklearn.metrics import silhouette_score\n"
   ]
  },
  {
   "cell_type": "markdown",
   "id": "b5ee79bc",
   "metadata": {},
   "source": [
    "### <font color='#2E86C1'>Loading data</font> "
   ]
  },
  {
   "cell_type": "code",
   "execution_count": 7,
   "id": "128e250b",
   "metadata": {},
   "outputs": [],
   "source": [
    "df = pd.read_csv('../data/dados_clientes.csv')"
   ]
  },
  {
   "cell_type": "code",
   "execution_count": 8,
   "id": "d1f37cdd",
   "metadata": {},
   "outputs": [
    {
     "data": {
      "text/html": [
       "<div>\n",
       "<style scoped>\n",
       "    .dataframe tbody tr th:only-of-type {\n",
       "        vertical-align: middle;\n",
       "    }\n",
       "\n",
       "    .dataframe tbody tr th {\n",
       "        vertical-align: top;\n",
       "    }\n",
       "\n",
       "    .dataframe thead th {\n",
       "        text-align: right;\n",
       "    }\n",
       "</style>\n",
       "<table border=\"1\" class=\"dataframe\">\n",
       "  <thead>\n",
       "    <tr style=\"text-align: right;\">\n",
       "      <th></th>\n",
       "      <th>id</th>\n",
       "      <th>idade</th>\n",
       "      <th>renda_anual</th>\n",
       "      <th>pontuacao_gastos</th>\n",
       "    </tr>\n",
       "  </thead>\n",
       "  <tbody>\n",
       "    <tr>\n",
       "      <th>0</th>\n",
       "      <td>1</td>\n",
       "      <td>56</td>\n",
       "      <td>94740</td>\n",
       "      <td>90</td>\n",
       "    </tr>\n",
       "    <tr>\n",
       "      <th>1</th>\n",
       "      <td>2</td>\n",
       "      <td>69</td>\n",
       "      <td>136352</td>\n",
       "      <td>50</td>\n",
       "    </tr>\n",
       "    <tr>\n",
       "      <th>2</th>\n",
       "      <td>3</td>\n",
       "      <td>46</td>\n",
       "      <td>86617</td>\n",
       "      <td>62</td>\n",
       "    </tr>\n",
       "    <tr>\n",
       "      <th>3</th>\n",
       "      <td>4</td>\n",
       "      <td>32</td>\n",
       "      <td>114841</td>\n",
       "      <td>97</td>\n",
       "    </tr>\n",
       "    <tr>\n",
       "      <th>4</th>\n",
       "      <td>5</td>\n",
       "      <td>60</td>\n",
       "      <td>36896</td>\n",
       "      <td>51</td>\n",
       "    </tr>\n",
       "    <tr>\n",
       "      <th>5</th>\n",
       "      <td>6</td>\n",
       "      <td>25</td>\n",
       "      <td>145729</td>\n",
       "      <td>37</td>\n",
       "    </tr>\n",
       "    <tr>\n",
       "      <th>6</th>\n",
       "      <td>7</td>\n",
       "      <td>38</td>\n",
       "      <td>66175</td>\n",
       "      <td>96</td>\n",
       "    </tr>\n",
       "    <tr>\n",
       "      <th>7</th>\n",
       "      <td>8</td>\n",
       "      <td>56</td>\n",
       "      <td>27805</td>\n",
       "      <td>87</td>\n",
       "    </tr>\n",
       "    <tr>\n",
       "      <th>8</th>\n",
       "      <td>9</td>\n",
       "      <td>36</td>\n",
       "      <td>25237</td>\n",
       "      <td>78</td>\n",
       "    </tr>\n",
       "    <tr>\n",
       "      <th>9</th>\n",
       "      <td>10</td>\n",
       "      <td>40</td>\n",
       "      <td>135247</td>\n",
       "      <td>29</td>\n",
       "    </tr>\n",
       "    <tr>\n",
       "      <th>10</th>\n",
       "      <td>11</td>\n",
       "      <td>28</td>\n",
       "      <td>40056</td>\n",
       "      <td>50</td>\n",
       "    </tr>\n",
       "    <tr>\n",
       "      <th>11</th>\n",
       "      <td>12</td>\n",
       "      <td>28</td>\n",
       "      <td>65543</td>\n",
       "      <td>80</td>\n",
       "    </tr>\n",
       "    <tr>\n",
       "      <th>12</th>\n",
       "      <td>13</td>\n",
       "      <td>41</td>\n",
       "      <td>76556</td>\n",
       "      <td>4</td>\n",
       "    </tr>\n",
       "    <tr>\n",
       "      <th>13</th>\n",
       "      <td>14</td>\n",
       "      <td>70</td>\n",
       "      <td>134548</td>\n",
       "      <td>28</td>\n",
       "    </tr>\n",
       "    <tr>\n",
       "      <th>14</th>\n",
       "      <td>15</td>\n",
       "      <td>53</td>\n",
       "      <td>131488</td>\n",
       "      <td>3</td>\n",
       "    </tr>\n",
       "  </tbody>\n",
       "</table>\n",
       "</div>"
      ],
      "text/plain": [
       "    id  idade  renda_anual  pontuacao_gastos\n",
       "0    1     56        94740                90\n",
       "1    2     69       136352                50\n",
       "2    3     46        86617                62\n",
       "3    4     32       114841                97\n",
       "4    5     60        36896                51\n",
       "5    6     25       145729                37\n",
       "6    7     38        66175                96\n",
       "7    8     56        27805                87\n",
       "8    9     36        25237                78\n",
       "9   10     40       135247                29\n",
       "10  11     28        40056                50\n",
       "11  12     28        65543                80\n",
       "12  13     41        76556                 4\n",
       "13  14     70       134548                28\n",
       "14  15     53       131488                 3"
      ]
     },
     "execution_count": 8,
     "metadata": {},
     "output_type": "execute_result"
    }
   ],
   "source": [
    "#first 15 lines\n",
    "df.head(15)"
   ]
  },
  {
   "cell_type": "markdown",
   "id": "091940ac",
   "metadata": {},
   "source": [
    "### <font color='#2E86C1'>Exploratory Analysis</font> "
   ]
  },
  {
   "cell_type": "code",
   "execution_count": 9,
   "id": "8de5a005",
   "metadata": {},
   "outputs": [
    {
     "data": {
      "text/html": [
       "<div>\n",
       "<style scoped>\n",
       "    .dataframe tbody tr th:only-of-type {\n",
       "        vertical-align: middle;\n",
       "    }\n",
       "\n",
       "    .dataframe tbody tr th {\n",
       "        vertical-align: top;\n",
       "    }\n",
       "\n",
       "    .dataframe thead th {\n",
       "        text-align: right;\n",
       "    }\n",
       "</style>\n",
       "<table border=\"1\" class=\"dataframe\">\n",
       "  <thead>\n",
       "    <tr style=\"text-align: right;\">\n",
       "      <th></th>\n",
       "      <th>idade</th>\n",
       "      <th>renda_anual</th>\n",
       "      <th>pontuacao_gastos</th>\n",
       "    </tr>\n",
       "  </thead>\n",
       "  <tbody>\n",
       "    <tr>\n",
       "      <th>count</th>\n",
       "      <td>500.000000</td>\n",
       "      <td>500.000000</td>\n",
       "      <td>500.000000</td>\n",
       "    </tr>\n",
       "    <tr>\n",
       "      <th>mean</th>\n",
       "      <td>44.732000</td>\n",
       "      <td>81557.166000</td>\n",
       "      <td>48.512000</td>\n",
       "    </tr>\n",
       "    <tr>\n",
       "      <th>std</th>\n",
       "      <td>15.239707</td>\n",
       "      <td>36764.379945</td>\n",
       "      <td>29.556946</td>\n",
       "    </tr>\n",
       "    <tr>\n",
       "      <th>min</th>\n",
       "      <td>18.000000</td>\n",
       "      <td>20384.000000</td>\n",
       "      <td>0.000000</td>\n",
       "    </tr>\n",
       "    <tr>\n",
       "      <th>25%</th>\n",
       "      <td>32.000000</td>\n",
       "      <td>49172.750000</td>\n",
       "      <td>24.000000</td>\n",
       "    </tr>\n",
       "    <tr>\n",
       "      <th>50%</th>\n",
       "      <td>45.000000</td>\n",
       "      <td>79219.000000</td>\n",
       "      <td>48.500000</td>\n",
       "    </tr>\n",
       "    <tr>\n",
       "      <th>75%</th>\n",
       "      <td>57.000000</td>\n",
       "      <td>113017.250000</td>\n",
       "      <td>73.250000</td>\n",
       "    </tr>\n",
       "    <tr>\n",
       "      <th>max</th>\n",
       "      <td>70.000000</td>\n",
       "      <td>149695.000000</td>\n",
       "      <td>100.000000</td>\n",
       "    </tr>\n",
       "  </tbody>\n",
       "</table>\n",
       "</div>"
      ],
      "text/plain": [
       "            idade    renda_anual  pontuacao_gastos\n",
       "count  500.000000     500.000000        500.000000\n",
       "mean    44.732000   81557.166000         48.512000\n",
       "std     15.239707   36764.379945         29.556946\n",
       "min     18.000000   20384.000000          0.000000\n",
       "25%     32.000000   49172.750000         24.000000\n",
       "50%     45.000000   79219.000000         48.500000\n",
       "75%     57.000000  113017.250000         73.250000\n",
       "max     70.000000  149695.000000        100.000000"
      ]
     },
     "execution_count": 9,
     "metadata": {},
     "output_type": "execute_result"
    }
   ],
   "source": [
    "df[['idade', 'renda_anual', 'pontuacao_gastos']].describe()"
   ]
  },
  {
   "cell_type": "markdown",
   "id": "4fc147a3",
   "metadata": {},
   "source": [
    "### <font color='#2E86C1'>Data Pre-Processing</font> "
   ]
  },
  {
   "cell_type": "code",
   "execution_count": 10,
   "id": "6d538c8e",
   "metadata": {},
   "outputs": [],
   "source": [
    "# Create the data standardizer\n",
    "standardizer = StandardScaler()\n",
    "\n",
    "# Applies the standardizer only to the columns of interest\n",
    "data_standardizer = standardizer.fit_transform(df[['idade', 'renda_anual', 'pontuacao_gastos']])\n"
   ]
  },
  {
   "cell_type": "code",
   "execution_count": 11,
   "id": "3f9fef82",
   "metadata": {},
   "outputs": [
    {
     "name": "stdout",
     "output_type": "stream",
     "text": [
      "[[ 0.74012478  0.35893538  1.40506904]\n",
      " [ 1.59401387  1.49192537  0.05039391]\n",
      " [ 0.08328703  0.13776654  0.45679645]\n",
      " ...\n",
      " [-0.31081563  0.32661636  0.18586143]\n",
      " [-1.23038848 -1.48706069  1.43893592]\n",
      " [-1.03333716 -0.96992912 -0.59307677]]\n"
     ]
    }
   ],
   "source": [
    "print(data_standardizer)"
   ]
  },
  {
   "cell_type": "markdown",
   "id": "d57c17de",
   "metadata": {},
   "source": [
    "### <font color='#2E86C1'> Validation of the Number of Clusters (K) </font>\n",
    "\n",
    "Before defining the number of clusters to be used in the segmentation model, it is important to validate the optimal value of **K**. In this step, we will apply two techniques:\n",
    "\n",
    "1. **Elbow Method** – evaluates the inertia (within-cluster sum-of-squares) to find the point of diminishing returns.\n",
    "2. **Silhouette Score** – measures how well-defined and distinct the clusters are.\n",
    "\n",
    "These analyses help justify the number of segments defined and increase the model's robustness."
   ]
  },
  {
   "cell_type": "markdown",
   "id": "aac19aa1",
   "metadata": {},
   "source": [
    "**Elbow Method**\n"
   ]
  },
  {
   "cell_type": "code",
   "execution_count": 25,
   "id": "bc0e0b85",
   "metadata": {},
   "outputs": [
    {
     "data": {
      "image/png": "[encoded data removed]",
      "text/plain": [
       "<Figure size 800x500 with 1 Axes>"
      ]
     },
     "metadata": {},
     "output_type": "display_data"
    }
   ],
   "source": [
    "# Elbow Method to determine the optimal K\n",
    "inertia = []\n",
    "k_range = range(1, 11)\n",
    "\n",
    "# Define a fixed seed for reproducibility\n",
    "# 42 is commonly used as a standard random_state value in data science\n",
    "# This ensures consistent clustering results across runs\n",
    "for k in k_range:\n",
    "    model = KMeans(n_clusters=k, random_state=42)\n",
    "    model.fit(df)  \n",
    "    inertia.append(model.inertia_)\n",
    "\n",
    "\n",
    "# Plotting the graph\n",
    "plt.figure(figsize=(8, 5))\n",
    "plt.plot(k_range, inertia, marker='o')\n",
    "plt.xlabel('Number of Clusters (K)')\n",
    "plt.ylabel('Inertia')\n",
    "plt.title('Elbow Method - Optimal K')\n",
    "plt.xticks(k_range)\n",
    "plt.grid(True)\n",
    "plt.show()"
   ]
  },
  {
   "cell_type": "markdown",
   "id": "db23a986",
   "metadata": {},
   "source": [
    "**Silhouette Score**"
   ]
  },
  {
   "cell_type": "code",
   "execution_count": 27,
   "id": "5506c66e",
   "metadata": {},
   "outputs": [
    {
     "data": {
      "image/png": "[encoded data removed]",
      "text/plain": [
       "<Figure size 800x500 with 1 Axes>"
      ]
     },
     "metadata": {},
     "output_type": "display_data"
    }
   ],
   "source": [
    "# List to store silhouette scores\n",
    "scores = []\n",
    "\n",
    "# Range of K values to test (must start at 2)\n",
    "k_range = range(2, 11)\n",
    "\n",
    "# Loop through each value of K\n",
    "for k in k_range:\n",
    "    # Initialize the KMeans model with current K\n",
    "    kmeans = KMeans(\n",
    "        n_clusters=k,         # Number of clusters\n",
    "        random_state=42,      # Ensures reproducibility\n",
    "        n_init=10             # Run the algorithm 10 times with different centroid seeds\n",
    "    )\n",
    "\n",
    "    # Fit the model and predict cluster labels for each point\n",
    "    labels = kmeans.fit_predict(df)\n",
    "\n",
    "    # Compute the silhouette score for this clustering\n",
    "    score = silhouette_score(df, labels)\n",
    "\n",
    "    # Store the score for later visualization\n",
    "    scores.append(score)\n",
    "\n",
    "# Plotting the silhouette scores\n",
    "plt.figure(figsize=(8, 5))\n",
    "plt.plot(k_range, scores, marker='o')\n",
    "plt.title('Silhouette Score by Number of Clusters (K)')\n",
    "plt.xlabel('Number of Clusters (K)')\n",
    "plt.ylabel('Silhouette Score')\n",
    "plt.grid(True)\n",
    "plt.show()\n"
   ]
  },
  {
   "cell_type": "markdown",
   "id": "ffc15b17",
   "metadata": {},
   "source": [
    "**Cluster Validation Summary✅**\n",
    "\n",
    "- Elbow Method: The curve shows a noticeable drop in inertia until K=3, after which the decrease becomes marginal. This suggests that 3 is a good choice for the number of clusters.\n",
    "\n",
    "- Silhouette Score: The highest silhouette score is also observed at K=2, but K=3 maintains a relatively high score while aligning with the business requirement.\n",
    "\n",
    "- Conclusion: Based on both metrics, **K=3** provides a good balance between cohesion and separation of clusters, making it a valid and justifiable choice for this segmentation task.\n"
   ]
  },
  {
   "cell_type": "markdown",
   "id": "c67ea0f0",
   "metadata": {},
   "source": [
    "### <font color='#2E86C1'>Building a Machine Learning Model for Customer Segmentation</font> "
   ]
  },
  {
   "cell_type": "code",
   "execution_count": 12,
   "id": "e64eeaff",
   "metadata": {},
   "outputs": [],
   "source": [
    "# Set the number of clusters (k)\n",
    "k = 3\n"
   ]
  },
  {
   "cell_type": "code",
   "execution_count": 13,
   "id": "92fd44f7",
   "metadata": {},
   "outputs": [],
   "source": [
    "# Create the K-means model\n",
    "kmeans = KMeans(n_clusters = k)"
   ]
  },
  {
   "cell_type": "code",
   "execution_count": null,
   "id": "5c829181",
   "metadata": {},
   "outputs": [],
   "source": [
    "# Model training with standardized data\n",
    "kmeans.fit(data_standardizer)"
   ]
  },
  {
   "cell_type": "code",
   "execution_count": 15,
   "id": "38808381",
   "metadata": {},
   "outputs": [],
   "source": [
    "# Assign cluster labels to clients\n",
    "df['cluster'] = kmeans.labels_"
   ]
  },
  {
   "cell_type": "code",
   "execution_count": null,
   "id": "39f6829d",
   "metadata": {},
   "outputs": [],
   "source": [
    "# Display the result (first 10 lines)\n",
    "df.head(10)"
   ]
  },
  {
   "cell_type": "code",
   "execution_count": null,
   "id": "e22c21b9",
   "metadata": {},
   "outputs": [],
   "source": [
    "# Random sample of data\n",
    "df.sample(10)"
   ]
  },
  {
   "cell_type": "code",
   "execution_count": 18,
   "id": "ff02b349",
   "metadata": {},
   "outputs": [],
   "source": [
    "# Save the result to disk\n",
    "df.to_csv('../data/segmentos_clientes.csv', index= False)"
   ]
  },
  {
   "cell_type": "markdown",
   "id": "68980d03",
   "metadata": {},
   "source": [
    "### <font color='#2E86C1'> Cluster Evaluation and Interpretation </font>\n",
    "\n",
    "After assigning each customer to a cluster using the **K-means algorithm**, it's essential to validate the quality and relevance of the resulting segmentation.\n",
    "\n",
    "In this section, we will analyze the **behavior and consistency** of each cluster using the following techniques:\n",
    "\n",
    "1. **Cluster Averages** – we’ll compare the mean values of key variables (*Age*, *Annual Income*, *Spending Score*) to identify patterns and distinctions.\n",
    "2. **Cluster Distribution** – we’ll use visualizations to assess how customers are spread across clusters.\n",
    "\n",
    "\n",
    "This analysis ensures that the segmentation is not only statistically sound but also **actionable for decision-making**.\n"
   ]
  },
  {
   "cell_type": "markdown",
   "id": "16aba2d0",
   "metadata": {},
   "source": [
    "**Cluster Averages**"
   ]
  },
  {
   "cell_type": "code",
   "execution_count": 33,
   "id": "0ee793e5",
   "metadata": {},
   "outputs": [
    {
     "data": {
      "text/html": [
       "<div>\n",
       "<style scoped>\n",
       "    .dataframe tbody tr th:only-of-type {\n",
       "        vertical-align: middle;\n",
       "    }\n",
       "\n",
       "    .dataframe tbody tr th {\n",
       "        vertical-align: top;\n",
       "    }\n",
       "\n",
       "    .dataframe thead th {\n",
       "        text-align: right;\n",
       "    }\n",
       "</style>\n",
       "<table border=\"1\" class=\"dataframe\">\n",
       "  <thead>\n",
       "    <tr style=\"text-align: right;\">\n",
       "      <th></th>\n",
       "      <th>idade</th>\n",
       "      <th>renda_anual</th>\n",
       "      <th>pontuacao_gastos</th>\n",
       "    </tr>\n",
       "    <tr>\n",
       "      <th>cluster</th>\n",
       "      <th></th>\n",
       "      <th></th>\n",
       "      <th></th>\n",
       "    </tr>\n",
       "  </thead>\n",
       "  <tbody>\n",
       "    <tr>\n",
       "      <th>0</th>\n",
       "      <td>43.730769</td>\n",
       "      <td>78641.164835</td>\n",
       "      <td>80.423077</td>\n",
       "    </tr>\n",
       "    <tr>\n",
       "      <th>1</th>\n",
       "      <td>47.217105</td>\n",
       "      <td>48046.802632</td>\n",
       "      <td>31.473684</td>\n",
       "    </tr>\n",
       "    <tr>\n",
       "      <th>2</th>\n",
       "      <td>43.554217</td>\n",
       "      <td>115438.415663</td>\n",
       "      <td>29.126506</td>\n",
       "    </tr>\n",
       "  </tbody>\n",
       "</table>\n",
       "</div>"
      ],
      "text/plain": [
       "             idade    renda_anual  pontuacao_gastos\n",
       "cluster                                            \n",
       "0        43.730769   78641.164835         80.423077\n",
       "1        47.217105   48046.802632         31.473684\n",
       "2        43.554217  115438.415663         29.126506"
      ]
     },
     "execution_count": 33,
     "metadata": {},
     "output_type": "execute_result"
    }
   ],
   "source": [
    "# Create a copy of the DataFrame with cluster labels\n",
    "cluster_summary = df[['idade', 'renda_anual', 'pontuacao_gastos','cluster']].copy()\n",
    "\n",
    "# Group by cluster and calculate the mean for each feature\n",
    "cluster_means = cluster_summary.groupby('cluster').mean(numeric_only=True)\n",
    "\n",
    "# Display the average profile of each cluster\n",
    "cluster_means\n"
   ]
  },
  {
   "cell_type": "markdown",
   "id": "fd564e55",
   "metadata": {},
   "source": [
    "**Cluster Distribution**"
   ]
  },
  {
   "cell_type": "code",
   "execution_count": 36,
   "id": "d4a35b11",
   "metadata": {},
   "outputs": [
    {
     "name": "stdout",
     "output_type": "stream",
     "text": [
      "cluster\n",
      "0    182\n",
      "1    152\n",
      "2    166\n",
      "Name: count, dtype: int64\n"
     ]
    }
   ],
   "source": [
    "# Count the number of clients in each cluster\n",
    "cluster_counts = df['cluster'].value_counts().sort_index()\n",
    "\n",
    "# Display the counts\n",
    "print(cluster_counts)\n",
    "\n",
    "\n"
   ]
  },
  {
   "cell_type": "markdown",
   "id": "10a4dc28",
   "metadata": {},
   "source": [
    "**Cluster Validation Summary ✅**\n",
    "\n",
    "Cluster Averages:\n",
    "Each cluster shows distinct patterns in average age, income, and spending score, indicating meaningful behavioral differences.\n",
    "\n",
    "Cluster Distribution:  \n",
    "The number of clients per cluster is relatively balanced, with no dominant or underrepresented group.\n",
    "\n",
    "Conclusion:  \n",
    "The segmentation into 3 clusters is consistent and actionable for marketing strategies."
   ]
  },
  {
   "cell_type": "markdown",
   "id": "3d9469e9",
   "metadata": {},
   "source": [
    "### <font color='#2E86C1'>Generating Customer Segment Reports with Power BI in Jupyter Notebook</font> "
   ]
  },
  {
   "cell_type": "code",
   "execution_count": 19,
   "id": "983ea879",
   "metadata": {},
   "outputs": [],
   "source": [
    "# Loads the functions used to authenticate and generate reports\n",
    "\n",
    "from powerbiclient import QuickVisualize, get_dataset_config, Report\n",
    "from powerbiclient.authentication import DeviceCodeLoginAuthentication"
   ]
  },
  {
   "cell_type": "code",
   "execution_count": 20,
   "id": "fefebce1",
   "metadata": {},
   "outputs": [
    {
     "name": "stdout",
     "output_type": "stream",
     "text": [
      "Performing device flow authentication. Please follow the instructions below.\n",
      "To sign in, use a web browser to open the page https://microsoft.com/devicelogin and enter the code ATP7EBK49 to authenticate.\n",
      "\n",
      "Device flow authentication successfully completed.\n",
      "You are now logged in .\n",
      "\n",
      "The result should be passed only to trusted code in your notebook.\n"
     ]
    }
   ],
   "source": [
    "# Set authentication in Power BI Service\n",
    "device_auth = DeviceCodeLoginAuthentication()"
   ]
  },
  {
   "cell_type": "code",
   "execution_count": 21,
   "id": "3ce867a9",
   "metadata": {},
   "outputs": [],
   "source": [
    "# Create the report in Power BI\n",
    "dash_PBI = QuickVisualize(get_dataset_config(df), auth = device_auth)"
   ]
  },
  {
   "cell_type": "code",
   "execution_count": 22,
   "id": "1cbfafcc",
   "metadata": {},
   "outputs": [
    {
     "data": {
      "application/vnd.jupyter.widget-view+json": {
       "model_id": "fcf1002a729b4a029c773029a2142c44",
       "version_major": 2,
       "version_minor": 0
      },
      "text/plain": [
       "QuickVisualize()"
      ]
     },
     "metadata": {},
     "output_type": "display_data"
    }
   ],
   "source": [
    "# Render (view) the report\n",
    "dash_PBI"
   ]
  }
 ],
 "metadata": {
  "kernelspec": {
   "display_name": "base",
   "language": "python",
   "name": "python3"
  },
  "language_info": {
   "codemirror_mode": {
    "name": "ipython",
    "version": 3
   },
   "file_extension": ".py",
   "mimetype": "text/x-python",
   "name": "python",
   "nbconvert_exporter": "python",
   "pygments_lexer": "ipython3",
   "version": "3.12.7"
  }
 },
 "nbformat": 4,
 "nbformat_minor": 5
}
