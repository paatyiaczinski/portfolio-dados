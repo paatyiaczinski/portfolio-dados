{
 "cells": [
  {
   "cell_type": "markdown",
   "id": "802f6be1",
   "metadata": {},
   "source": [
    "### ✅ Validação do Número de Clusters\n",
    "\n",
    "Para determinar o número ideal de clusters (K), utilizamos duas técnicas de validação: o Método do Cotovelo e o Índice de Silhueta. As duas visualizações estão apresentadas abaixo.\n",
    "\n",
    "#### 📉 Método do Cotovelo\n",
    "![Método do Cotovelo](../img/elbow_method.png)\n",
    "\n",
    "- A curva mostra uma queda significativa na inércia até **K = 3**, após o qual as melhorias se tornam marginais.\n",
    "- Isso sugere que **K = 3** é uma boa escolha, equilibrando simplicidade do modelo com precisão na segmentação.\n",
    "\n",
    "#### 📈 Índices de Silhueta\n",
    "![Silhouette Scores](../img/silhouette-scores.png)\n",
    "\n",
    "- O maior índice de silhueta ocorre em **K = 2**, mas **K = 3** ainda apresenta um valor relativamente alto.\n",
    "- Como **K = 3** também está alinhado com os objetivos de negócio e facilita a interpretação dos grupos, permanece como a melhor opção.\n",
    "\n",
    "#### ✅ Conclusão Final\n",
    "Combinando ambas as métricas, concluímos que **K = 3** representa uma solução equilibrada — mantendo **coesão entre os grupos**, **separação adequada** e **clareza na aplicação prática**.\n"
   ]
  },
  {
   "cell_type": "markdown",
   "id": "b7ac86f2",
   "metadata": {},
   "source": []
  },
  {
   "cell_type": "markdown",
   "id": "fb285866",
   "metadata": {},
   "source": [
    "### 🧩 Resumo dos Clusters – Médias e Distribuição\n",
    "\n",
    "Abaixo estão os perfis médios e a distribuição de tamanho de cada cluster identificado na segmentação. Juntos, eles fornecem uma visão quantitativa dos grupos de clientes.\n",
    "\n",
    "<div style=\"display: flex; gap: 20px; justify-content: center;\">\n",
    "\n",
    "<div>\n",
    "<strong>Médias por Cluster</strong><br>\n",
    "<img src=\"../img/cluster-averages.png\" width=\"500\"/>\n",
    "</div>\n",
    "\n",
    "<div>\n",
    "<strong>Distribuição dos Clusters</strong><br>\n",
    "<img src=\"../img/cluster-distribution.png\" width=\"400\"/>\n",
    "</div>\n",
    "\n",
    "</div>\n",
    "\n",
    "#### ✅ Validação dos Clusters\n",
    "\n",
    "- **Médias por Cluster**:  \n",
    "  Cada cluster apresenta padrões distintos em idade, renda e pontuação de gastos, revelando diferenças comportamentais relevantes.\n",
    "\n",
    "- **Distribuição dos Clusters**:  \n",
    "  A quantidade de clientes por cluster está relativamente equilibrada, sem grupos dominantes ou sub-representados.\n",
    "\n",
    "- **Conclusão**:  \n",
    "  A segmentação em 3 clusters é consistente e aplicável a estratégias de marketing.\n"
   ]
  },
  {
   "cell_type": "markdown",
   "id": "48d7038a",
   "metadata": {},
   "source": [
    "---"
   ]
  },
  {
   "cell_type": "markdown",
   "id": "c3622f94",
   "metadata": {},
   "source": [
    "## Visualização dos Clusters com PCA\n",
    "\n",
    "![Tabela de clusters](../img/pca_clusters.png)\n",
    "\n",
    "\n",
    "\n",
    "\n",
    "\n",
    "📊 Principais Insights\n",
    "\n",
    "\n",
    "🟢 Cluster 0 (verde)\n",
    "Localizado na parte inferior do gráfico de PCA.\n",
    "\n",
    "Bem separado dos demais clusters.\n",
    "\n",
    "Representa um grupo mais homogêneo, provavelmente composto por clientes mais jovens e com menor renda.\n",
    "\n",
    "Confirma o padrão identificado nos boxplots e no gráfico radar (baixo poder de consumo).\n",
    "\n",
    "🟠 Cluster 1 (laranja)\n",
    "Posicionado de forma central, fazendo uma ponte entre os extremos.\n",
    "\n",
    "Representa um grupo mais variado, com clientes de meia-idade, renda média e alta propensão a gastar.\n",
    "\n",
    "Provavelmente o grupo ideal para estratégias de retenção e ofertas premium.\n",
    "\n",
    "🔵 Cluster 2 (azul)\n",
    "Distribuído na parte superior-direita do gráfico, com separação moderada.\n",
    "\n",
    "Indica clientes jovens com alta renda, mas com comportamento de consumo ainda misto.\n",
    "\n",
    "Excelente público para upselling e campanhas aspiracionais.\n",
    "\n",
    "### 🧠 Resumo dos Clusters e Recomendações Estratégicas\n",
    "\n",
    "| Cluster | Perfil Principal                        | Estratégia Recomendada                                     |\n",
    "|---------|-----------------------------------------|------------------------------------------------------------|\n",
    "| 0       | Jovens, baixa renda, baixo consumo      | Programas de fidelidade, produtos acessíveis               |\n",
    "| 1       | Meia-idade, renda média, alto consumo   | Ofertas premium, experiências personalizadas               |\n",
    "| 2       | Jovens, alta renda, consumo moderado    | Upselling, campanhas aspiracionais, experiências exclusivas |\n"
   ]
  },
  {
   "cell_type": "markdown",
   "id": "74a82326",
   "metadata": {},
   "source": []
  },
  {
   "cell_type": "markdown",
   "id": "bba1ad6a",
   "metadata": {},
   "source": [
    "### 📊 Distribuição das Variáveis por Cluster\n",
    "\n",
    "Os boxplots abaixo ilustram a distribuição das três variáveis principais — idade, renda anual e pontuação de gastos — para cada cluster. Essas visualizações ajudam a interpretar as diferenças comportamentais e econômicas entre os grupos.\n",
    "\n",
    "![Boxplots por Cluster](../img/boxplots.png)\n",
    "\n",
    "#### 🔍 Interpretação:\n",
    "\n",
    "- **Idade**: Destaca quais clusters possuem clientes mais jovens ou mais velhos.\n",
    "- **Renda Anual**: Revela grupos com maior ou menor poder aquisitivo.\n",
    "- **Pontuação de Gastos**: Indica quais clusters têm maior propensão ao consumo.\n",
    "\n",
    "Esses padrões fornecem insights acionáveis sobre o comportamento dos clientes e apoiam a estratégia de segmentação.\n"
   ]
  },
  {
   "cell_type": "markdown",
   "id": "5e7f5cc2",
   "metadata": {},
   "source": []
  },
  {
   "cell_type": "markdown",
   "id": "8203827f",
   "metadata": {},
   "source": [
    "### 🔗 Relações entre Variáveis por Cluster – Pairplot\n",
    "\n",
    "A matriz de dispersão abaixo mostra as relações entre idade, renda anual e pontuação de gastos em todos os clusters. Ela oferece uma visão multidimensional das diferenças entre os grupos.\n",
    "\n",
    "![Pairplot por Cluster](../img/pairplot.png)\n",
    "\n",
    "#### 🧠 O que você pode extrair de insights com esse gráfico:\n",
    "\n",
    "📌 **Idade vs. Renda Anual**:\n",
    "- O **Cluster 2** tende a agrupar **clientes mais jovens com rendas mais altas**.\n",
    "- O **Cluster 1** inclui **clientes mais velhos com rendas médias**.\n",
    "- O **Cluster 0** é mais **disperso**, abrangendo várias faixas de idade, mas com rendas geralmente mais baixas.\n",
    "\n",
    "📌 **Idade vs. Pontuação de Gastos**:\n",
    "- Pontuações altas de gastos aparecem em **jovens (Cluster 2)** e **mais velhos (Cluster 1)**.\n",
    "- Isso indica **potencial de consumo em diferentes faixas etárias**, possivelmente por motivos distintos (ex: renda disponível vs. estilo de vida).\n",
    "\n",
    "📌 **Renda Anual vs. Pontuação de Gastos**:\n",
    "- Renda mais alta **não está necessariamente ligada a maior consumo**.\n",
    "- Essa desconexão pode representar **oportunidades estratégicas**, como campanhas para incentivar o consumo entre clientes de alta renda com baixa pontuação de engajamento.\n"
   ]
  },
  {
   "cell_type": "markdown",
   "id": "c11cf7c9",
   "metadata": {},
   "source": []
  },
  {
   "cell_type": "markdown",
   "id": "148bb576",
   "metadata": {},
   "source": [
    "### 🕸️ Perfis Normalizados dos Clusters – Gráfico Radar\n",
    "\n",
    "O gráfico radar abaixo compara os valores médios (normalizados) de idade, renda anual e pontuação de gastos entre os clusters. Essa visualização destaca padrões comportamentais relevantes e apoia decisões estratégicas por segmento.\n",
    "\n",
    "![Radar Chart](../img/radar-chart.png)\n",
    "\n",
    "#### 🔍 Insights por Cluster\n",
    "\n",
    "🔵 **Cluster 0**  \n",
    "- Clientes mais jovens, com menor renda e baixo consumo.  \n",
    "- 🧠 Estratégia: Ofertas acessíveis, programas de fidelidade e produtos de entrada.\n",
    "\n",
    "🟠 **Cluster 1**  \n",
    "- Clientes mais velhos, com renda média e **maior nível de consumo**.  \n",
    "- 🧠 Estratégia: Produtos premium, serviços personalizados e campanhas de fidelização.\n",
    "\n",
    "🟢 **Cluster 2**    \n",
    "- Clientes jovens com alta renda e consumo moderado.  \n",
    "- 🧠 Estratégia: Marketing aspiracional e experiências exclusivas para elevar o ticket médio."
   ]
  }
 ],
 "metadata": {
  "language_info": {
   "name": "python"
  }
 },
 "nbformat": 4,
 "nbformat_minor": 5
}
