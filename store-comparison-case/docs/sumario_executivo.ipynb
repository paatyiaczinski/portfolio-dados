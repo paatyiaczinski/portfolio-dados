{
 "cells": [
  {
   "cell_type": "markdown",
   "id": "0e6f4525",
   "metadata": {},
   "source": [
    "# 📝 Sumário Executivo: Projeto Análise de Vendas – Estudo de Caso da Rede de Cafeterias\n",
    "\n",
    "**Autor(a):** Patricia Iaczinski\n",
    "\n",
    "**Ferramentas Principais:** Power BI (Modelagem, DAX, Visualização), Excel/CSV\n",
    "\n",
    "\n",
    "## 1. Introdução e Objetivo\n",
    "\n",
    "Este projeto, desenvolvido como um case prático, teve como objetivo analisar o desempenho de vendas de uma rede fictícia de cafeterias entre 2022 e 2023. O foco principal foi transformar dados de vendas simulados em insights acionáveis, respondendo a perguntas como:\n",
    "\n",
    "* Como a performance (Receita, Lucro, Margem) varia entre as diferentes lojas físicas?\n",
    "* Quais os padrões de venda por categoria de produto e região geográfica?\n",
    "* O crescimento da receita é sustentável ou impulsionado apenas pela expansão?\n",
    "* Quais lojas e produtos são mais rentáveis e quais representam oportunidades de otimização?\n",
    "\n",
    "O resultado é um dashboard interativo no Power BI e um conjunto de recomendações estratégicas para a gestão da rede, incluindo a proposta de um novo produto.\n",
    "\n"
   ]
  },
  {
   "cell_type": "markdown",
   "id": "4a96c388",
   "metadata": {},
   "source": [
    "## 2. Fonte de Dados e Preparação\n",
    "\n",
    "Os dados foram fornecidos em dois arquivos Excel simulados:\n",
    "\n",
    "* **Base de Dados:** Continha as transações detalhadas por loja, produto, quantidade, valor, custo, localização (cidade/estado), mês e ano.\n",
    "* **Base de Dados 2:** Apresentava a hierarquia dos produtos (grupo, subgrupo).\n",
    "\n",
    "**Principais Etapas de Preparação (realizadas majoritariamente no Power Query dentro do Power BI):**\n",
    "\n",
    "* **Unificação de Data:** Criação manual de uma coluna `Data` (formato Date) a partir das colunas separadas de `mês` e `ano`, essencial para análises temporais.\n",
    "* **Verificação de Qualidade:** Checagem de valores nulos em campos críticos (valor, custo_total) e ajuste dos tipos de dados.\n",
    "* **Modelagem:** Criação de um modelo estrela simples, relacionando a tabela fato (`Base de Dados`) com a dimensão de produtos (`Base de Dados 2`) pela chave `codigo_produto`.\n",
    "\n"
   ]
  },
  {
   "cell_type": "markdown",
   "id": "172f54f5",
   "metadata": {},
   "source": [
    "## 3. Análises e Descobertas Chave\n",
    "\n",
    "A análise foi estruturada para explorar diferentes facetas do desempenho da rede, refletidas nas visualizações do dashboard:"
   ]
  },
  {
   "cell_type": "markdown",
   "id": "7eb06ec8",
   "metadata": {},
   "source": [
    "### 3.1. Visão Anual: Crescimento Agressivo vs. Desempenho Orgânico\n",
    "\n",
    "Análise da evolução geral da rede entre 2022 e 2023, focando no crescimento da receita e na expansão de lojas.\n",
    "\n",
    "**Principais Insights:**\n",
    "\n",
    "* **Expansão Rápida:** O número de lojas mais que dobrou (+102%) entre 2022 e 2023, passando de 42 para 85.\n",
    "* **Crescimento da Receita:** A receita total cresceu aproximadamente 14%.\n",
    "* **Alerta Crítico:** No entanto, a análise das lojas que operaram em ambos os anos (`.LojaComDoisAnos`) revelou que **a maioria delas teve queda na receita em 2023**. O crescimento geral foi, portanto, **impulsionado pela abertura de novas unidades**, mascarando um desafio de sustentabilidade nas lojas existentes. Sem a expansão, a rede teria tido prejuízo.\n",
    "\n",
    "**Visualização Chave:**\n",
    " ![Análise Anual](../img/analise_anual.png)\n",
    "  *Descrição: Dashboard mostrando a evolução anual da receita, lucro e número de lojas, com destaque para a comparação entre crescimento total e crescimento orgânico (lojas existentes).*"
   ]
  },
  {
   "cell_type": "markdown",
   "id": "10528fcb",
   "metadata": {},
   "source": [
    "### 3.2. Comparativo de Lojas: Identificando Líderes e Oportunidades\n",
    "\n",
    "Avaliação do desempenho individual das lojas e identificação de padrões geográficos e de rentabilidade.\n",
    "\n",
    "**Principais Insights:**\n",
    "\n",
    "* **Loja Destaque:** São José dos Pinhais foi a loja com maior contribuição para o lucro total em 2023 (4,6%).\n",
    "* **Concentração Geográfica:** Os estados de Santa Catarina (SC), Goiás (GO) e Minas Gerais (MG) concentraram as maiores receitas.\n",
    "* **Rentabilidade:** A margem bruta média geral da rede foi de 72%, e o CMV médio ficou em 30,7%, indicando um bom controle de custos na média.\n",
    "\n",
    "\n",
    "**Visualização Chave:**\n",
    "![Comparativo Lojas](../img/comparativo_loja.png)\n",
    "*Descrição: Dashboard comparando as lojas por receita, lucro, margem e CMV, com mapa destacando a performance por estado.*"
   ]
  },
  {
   "cell_type": "markdown",
   "id": "b0fd3345",
   "metadata": {},
   "source": [
    "### 3.3. Comparativo de Produtos: O Domínio do Café e a Cauda Longa\n",
    "\n",
    "Análise do desempenho por categoria e produto, identificando os mais vendidos e oportunidades de otimização do portfólio.\n",
    "\n",
    "**Principais Insights:**\n",
    "\n",
    "* **Categoria Principal:** O grupo \"CAFÉS\" representa mais de 80% do faturamento total da rede.\n",
    "* **Produtos Mais Vendidos:** Itens como \"Espresso com Leite\" e \"Espresso Longo\" lideram as vendas.\n",
    "* **Rentabilidade por Categoria:** A margem média dos cafés é alta (82%), com CMV médio baixo (19,9%).\n",
    "* **Oportunidade de Otimização:** Produtos como \"Suco de Acerola\", \"Café Inglês\" e \"Omelete Vegana\" tiveram desempenho muito baixo (baixo giro), representando uma oportunidade para simplificar o cardápio e focar nos itens mais populares e/ou rentáveis.\n",
    "\n",
    "\n",
    "**Visualização Chave:**\n",
    "![Comparativo Produtos](../img/comparativo_produtos.png)\n",
    "![Top Produtos](../img/top_produtos.png)\n",
    "*Descrição: Gráficos mostrando a participação das categorias de produtos na receita e margem, e um ranking dos produtos mais e menos vendidos.*"
   ]
  },
  {
   "cell_type": "markdown",
   "id": "ceaa863c",
   "metadata": {},
   "source": [
    "## 4. Recomendações Estratégicas\n",
    "\n",
    "Com base nos insights gerados, as principais recomendações para a rede de cafeterias são:\n",
    "\n",
    "* **Investigar Performance Orgânica:** Priorizar a análise das causas da queda de receita nas lojas existentes (segmentando por `modelo`, região, concorrência local, etc.) e desenvolver planos de ação.\n",
    "* **Replicar Sucesso:** Estudar a fundo as operações e o mix de produtos das lojas de melhor desempenho (como São José dos Pinhais) para identificar e replicar fatores de sucesso.\n",
    "* **Otimizar Portfólio:** Revisar o cardápio, considerando descontinuar ou substituir produtos de baixo giro (após verificar se não há nichos regionais) para reduzir complexidade e custos. Focar em promover produtos da categoria principal \"CAFÉS\" e explorar subgrupos com alta margem.\n",
    "* **Foco Geográfico:** Avaliar o potencial de expansão ou investimento adicional nos estados de maior receita (SC, GO, MG), mas também analisar a rentabilidade por loja nessas regiões."
   ]
  },
  {
   "cell_type": "markdown",
   "id": "741ecea4",
   "metadata": {},
   "source": [
    "## 5. Próximos Passos e Oportunidades de Análise\n",
    "\n",
    "Para aprofundar o entendimento e refinar ainda mais as estratégias, sugerem-se os seguintes passos:\n",
    "\n",
    "* **Diagnóstico Aprofundado da Queda Orgânica:** Conforme mencionado, segmentar as lojas existentes por múltiplas dimensões (`modelo`, região, proximidade a novas lojas).\n",
    "* **Benchmarking Detalhado:** Comparar não apenas receita/lucro, mas também indicadores operacionais (se disponíveis) e mix de produtos das lojas top vs. bottom. Analisar a *variabilidade* das margens.\n",
    "* **Análise por Subgrupo:** Utilizar a hierarquia de produtos (`subgrupo`) para análises mais granulares de rentabilidade.\n",
    "* **Ticket Médio:** Se possível, calcular e analisar o ticket médio por loja/modelo para entender padrões de consumo.\n",
    "* **Análise de Causa Raiz:** Cruzar dados de vendas com outras informações (ex: dados demográficos locais, ações de marketing por loja, dados de satisfação do cliente), se disponíveis, para entender os drivers de performance."
   ]
  },
  {
   "cell_type": "markdown",
   "id": "50b6946d",
   "metadata": {},
   "source": [
    "## 6. Proposta de Novo Produto – Linha “Cafés Brasileiros”\n",
    "\n",
    "Com base nos padrões observados por estado e nas preferências por categorias, foi proposta a criação de uma **linha de Cafés Regionais do Brasil**, nomeada internamente como **“Cafés Brasileiros”**.\n",
    "\n",
    "Essa nova linha teria as seguintes características:\n",
    "\n",
    "- A cada mês, um café de uma região diferente do Brasil seria apresentado\n",
    "- O cliente receberia um **Cartão Fidelidade** e, ao completar 12 meses de compra, ganharia um **presente especial da marca**\n",
    "- A ação teria apelo de **produto premium** e seria acompanhada de storytelling sobre origem e aroma de cada edição\n",
    "\n",
    "Além de gerar receita, a campanha teria como benefício secundário a **coleta de dados mais detalhados sobre os clientes**, já que envolveria cadastro no programa e acompanhamento mensal — algo ausente nos dados atuais."
   ]
  },
  {
   "cell_type": "markdown",
   "id": "b89088f0",
   "metadata": {},
   "source": [
    "## 7. Conclusão\n",
    "\n",
    "Este projeto de análise de vendas demonstrou como a aplicação de técnicas de Business Intelligence com Power BI pode transformar dados brutos em insights estratégicos. A identificação de que o crescimento da receita mascarava uma queda no desempenho orgânico é um exemplo crítico de como a análise de dados pode revelar a verdadeira saúde de um negócio e direcionar ações corretivas e proativas para garantir a sustentabilidade e a rentabilidade a longo prazo. O dashboard desenvolvido serve como uma ferramenta para monitoramento contínuo e apoio à decisão."
   ]
  }
 ],
 "metadata": {
  "language_info": {
   "name": "python"
  }
 },
 "nbformat": 4,
 "nbformat_minor": 5
}
